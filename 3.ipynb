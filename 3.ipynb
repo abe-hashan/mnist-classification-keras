{
 "cells": [
  {
   "cell_type": "code",
   "execution_count": 20,
   "metadata": {},
   "outputs": [],
   "source": [
    "#Imports\n",
    "\n",
    "from tensorflow import keras\n",
    "from keras.datasets import mnist\n",
    "from matplotlib import pyplot as plt\n",
    "from tensorflow.keras import layers\n",
    "import numpy as np"
   ]
  },
  {
   "cell_type": "code",
   "execution_count": 21,
   "metadata": {},
   "outputs": [],
   "source": [
    "# Load pre-shuffled MNIST data into train and test sets\n",
    "\n",
    "(X_train, y_train), (X_test, y_test) = mnist.load_data()"
   ]
  },
  {
   "cell_type": "code",
   "execution_count": 22,
   "metadata": {},
   "outputs": [
    {
     "name": "stdout",
     "output_type": "stream",
     "text": [
      "(60000, 28, 28)\n",
      "(60000,)\n",
      "(10000, 28, 28)\n",
      "(10000,)\n"
     ]
    }
   ],
   "source": [
    "#Exploring shape of test set\n",
    "\n",
    "print(X_train.shape) \n",
    "print(y_train.shape) \n",
    "print(X_test.shape) \n",
    "print(y_test.shape) "
   ]
  },
  {
   "cell_type": "code",
   "execution_count": 23,
   "metadata": {},
   "outputs": [
    {
     "data": {
      "text/plain": [
       "<matplotlib.image.AxesImage at 0x1cd9c01b148>"
      ]
     },
     "execution_count": 23,
     "metadata": {},
     "output_type": "execute_result"
    },
    {
     "data": {
      "image/png": "[encoded data removed]",
      "text/plain": [
       "<Figure size 432x288 with 1 Axes>"
      ]
     },
     "metadata": {
      "needs_background": "light"
     },
     "output_type": "display_data"
    }
   ],
   "source": [
    "#Plotting the first image of training set\n",
    "\n",
    "plt.imshow(X_train[0])"
   ]
  },
  {
   "cell_type": "code",
   "execution_count": 24,
   "metadata": {},
   "outputs": [
    {
     "name": "stdout",
     "output_type": "stream",
     "text": [
      "(60000, 28, 28, 1)\n",
      "(10000, 28, 28, 1)\n"
     ]
    }
   ],
   "source": [
    "# reshaping the dimensions of images upto 4 as required by keras\n",
    "\n",
    "X_train = np.expand_dims(X_train, -1)\n",
    "X_test = np.expand_dims(X_test, -1)\n",
    "\n",
    "# See how it is rehaped\n",
    "\n",
    "input_shape = (28, 28, 1)\n",
    "\n",
    "# Making all the values as float to preserve decimal points after a division\n",
    "\n",
    "X_train = X_train.astype('float32')\n",
    "X_test = X_test.astype('float32')\n",
    "\n",
    "# Normalizing the values to be in the range of 0 - 1\n",
    "\n",
    "X_train /= 255\n",
    "X_test /= 255\n",
    "\n",
    "print(X_train.shape) \n",
    "print(X_test.shape) \n",
    "\n"
   ]
  },
  {
   "cell_type": "code",
   "execution_count": 25,
   "metadata": {},
   "outputs": [],
   "source": [
    "# Adding noise of 0.25\n",
    "\n",
    "noise_factor = 0.25\n",
    "X_train_noisy_25 = X_train + noise_factor * np.random.normal(loc=0.0, scale=1.0, size=X_train.shape)\n",
    "X_test_noisy_25 = X_test + noise_factor * np.random.normal(loc=0.0, scale=1.0, size=X_test.shape)\n",
    "X_train_noisy_25 = np.clip(X_train_noisy_25, 0. , 1.)\n",
    "X_test_noisy_25 = np.clip(X_test_noisy_25, 0. , 1.)\n",
    "\n",
    "# Adding noise of 0.40\n",
    "\n",
    "noise_factor = 0.40\n",
    "X_train_noisy_40 = X_train + noise_factor * np.random.normal(loc=0.0, scale=1.0, size=X_train.shape)\n",
    "X_test_noisy_40 = X_test + noise_factor * np.random.normal(loc=0.0, scale=1.0, size=X_test.shape)\n",
    "X_train_noisy_40 = np.clip(X_train_noisy_40, 0. , 1.)\n",
    "X_test_noisy_40 = np.clip(X_test_noisy_40, 0. , 1.)\n",
    "\n",
    "# Adding noise of 0.60\n",
    "\n",
    "noise_factor = 0.60\n",
    "X_train_noisy_60 = X_train + noise_factor * np.random.normal(loc=0.0, scale=1.0, size=X_train.shape)\n",
    "X_test_noisy_60 = X_test + noise_factor * np.random.normal(loc=0.0, scale=1.0, size=X_test.shape)\n",
    "X_train_noisy_60 = np.clip(X_train_noisy_60, 0. , 1.)\n",
    "X_test_noisy_60 = np.clip(X_test_noisy_60, 0. , 1.)"
   ]
  },
  {
   "cell_type": "code",
   "execution_count": 26,
   "metadata": {},
   "outputs": [
    {
     "name": "stdout",
     "output_type": "stream",
     "text": [
      "[5 0 4 ... 5 6 8]\n"
     ]
    }
   ],
   "source": [
    "print(y_train)\n",
    "\n",
    "# one hot encoding train and test classes \n",
    "class_count = 10\n",
    "y_train = keras.utils.to_categorical(y_train, class_count)\n",
    "y_test = keras.utils.to_categorical(y_test, class_count)\n"
   ]
  },
  {
   "cell_type": "code",
   "execution_count": 27,
   "metadata": {},
   "outputs": [],
   "source": [
    "model_25 = keras.Sequential(\n",
    "    [\n",
    "        keras.Input(shape=input_shape),\n",
    "        layers.Conv2D(32, kernel_size=(3, 3), activation=\"relu\"),\n",
    "        layers.MaxPooling2D(pool_size=(2, 2)),\n",
    "        layers.Conv2D(64, kernel_size=(3, 3), activation=\"relu\"),\n",
    "        layers.MaxPooling2D(pool_size=(2, 2)),\n",
    "        layers.Flatten(),\n",
    "        layers.Dropout(0.5),\n",
    "        layers.Dense(class_count, activation=\"softmax\"),\n",
    "    ]\n",
    ")\n",
    "\n",
    "model_40 = keras.Sequential(\n",
    "    [\n",
    "        keras.Input(shape=input_shape),\n",
    "        layers.Conv2D(32, kernel_size=(3, 3), activation=\"relu\"),\n",
    "        layers.MaxPooling2D(pool_size=(2, 2)),\n",
    "        layers.Conv2D(64, kernel_size=(3, 3), activation=\"relu\"),\n",
    "        layers.MaxPooling2D(pool_size=(2, 2)),\n",
    "        layers.Flatten(),\n",
    "        layers.Dropout(0.5),\n",
    "        layers.Dense(class_count, activation=\"softmax\"),\n",
    "    ]\n",
    ")\n",
    "\n",
    "model_60 = keras.Sequential(\n",
    "    [\n",
    "        keras.Input(shape=input_shape),\n",
    "        layers.Conv2D(32, kernel_size=(3, 3), activation=\"relu\"),\n",
    "        layers.MaxPooling2D(pool_size=(2, 2)),\n",
    "        layers.Conv2D(64, kernel_size=(3, 3), activation=\"relu\"),\n",
    "        layers.MaxPooling2D(pool_size=(2, 2)),\n",
    "        layers.Flatten(),\n",
    "        layers.Dropout(0.5),\n",
    "        layers.Dense(class_count, activation=\"softmax\"),\n",
    "    ]\n",
    ")"
   ]
  },
  {
   "cell_type": "code",
   "execution_count": 28,
   "metadata": {},
   "outputs": [
    {
     "name": "stdout",
     "output_type": "stream",
     "text": [
      "Epoch 1/15\n",
      "422/422 [==============================] - 50s 119ms/step - loss: 0.4658 - accuracy: 0.8602 - val_loss: 0.1109 - val_accuracy: 0.9693\n",
      "Epoch 2/15\n",
      "422/422 [==============================] - 48s 113ms/step - loss: 0.1517 - accuracy: 0.9539 - val_loss: 0.0800 - val_accuracy: 0.9787\n",
      "Epoch 3/15\n",
      "422/422 [==============================] - 52s 123ms/step - loss: 0.1145 - accuracy: 0.9650 - val_loss: 0.0670 - val_accuracy: 0.9823\n",
      "Epoch 4/15\n",
      "422/422 [==============================] - 47s 111ms/step - loss: 0.0962 - accuracy: 0.9704 - val_loss: 0.0599 - val_accuracy: 0.9830\n",
      "Epoch 5/15\n",
      "422/422 [==============================] - 46s 109ms/step - loss: 0.0881 - accuracy: 0.9729 - val_loss: 0.0535 - val_accuracy: 0.9852\n",
      "Epoch 6/15\n",
      "422/422 [==============================] - 46s 109ms/step - loss: 0.0800 - accuracy: 0.9750 - val_loss: 0.0521 - val_accuracy: 0.9853\n",
      "Epoch 7/15\n",
      "422/422 [==============================] - 48s 114ms/step - loss: 0.0729 - accuracy: 0.9765 - val_loss: 0.0476 - val_accuracy: 0.9867\n",
      "Epoch 8/15\n",
      "422/422 [==============================] - 48s 113ms/step - loss: 0.0683 - accuracy: 0.9783 - val_loss: 0.0475 - val_accuracy: 0.9872\n",
      "Epoch 9/15\n",
      "422/422 [==============================] - 47s 111ms/step - loss: 0.0652 - accuracy: 0.9797 - val_loss: 0.0460 - val_accuracy: 0.9860\n",
      "Epoch 10/15\n",
      "422/422 [==============================] - 50s 118ms/step - loss: 0.0620 - accuracy: 0.9804 - val_loss: 0.0466 - val_accuracy: 0.9850\n",
      "Epoch 11/15\n",
      "422/422 [==============================] - 49s 117ms/step - loss: 0.0592 - accuracy: 0.9810 - val_loss: 0.0434 - val_accuracy: 0.9883\n",
      "Epoch 12/15\n",
      "422/422 [==============================] - 46s 108ms/step - loss: 0.0576 - accuracy: 0.9820 - val_loss: 0.0453 - val_accuracy: 0.9872\n",
      "Epoch 13/15\n",
      "422/422 [==============================] - 51s 121ms/step - loss: 0.0540 - accuracy: 0.9828 - val_loss: 0.0424 - val_accuracy: 0.9883\n",
      "Epoch 14/15\n",
      "422/422 [==============================] - 53s 127ms/step - loss: 0.0522 - accuracy: 0.9833 - val_loss: 0.0413 - val_accuracy: 0.9888\n",
      "Epoch 15/15\n",
      "422/422 [==============================] - 48s 114ms/step - loss: 0.0504 - accuracy: 0.9841 - val_loss: 0.0434 - val_accuracy: 0.9887\n",
      "Epoch 1/15\n",
      "422/422 [==============================] - 53s 125ms/step - loss: 0.5798 - accuracy: 0.8198 - val_loss: 0.1690 - val_accuracy: 0.9532\n",
      "Epoch 2/15\n",
      "422/422 [==============================] - 48s 113ms/step - loss: 0.2133 - accuracy: 0.9338 - val_loss: 0.1176 - val_accuracy: 0.9662\n",
      "Epoch 3/15\n",
      "422/422 [==============================] - 43s 102ms/step - loss: 0.1664 - accuracy: 0.9480 - val_loss: 0.1060 - val_accuracy: 0.9703\n",
      "Epoch 4/15\n",
      "422/422 [==============================] - 48s 114ms/step - loss: 0.1443 - accuracy: 0.9549 - val_loss: 0.0987 - val_accuracy: 0.9712\n",
      "Epoch 5/15\n",
      "422/422 [==============================] - 53s 125ms/step - loss: 0.1313 - accuracy: 0.9589 - val_loss: 0.0866 - val_accuracy: 0.9772\n",
      "Epoch 6/15\n",
      "422/422 [==============================] - 49s 116ms/step - loss: 0.1222 - accuracy: 0.9614 - val_loss: 0.0859 - val_accuracy: 0.9767\n",
      "Epoch 7/15\n",
      "422/422 [==============================] - 44s 104ms/step - loss: 0.1106 - accuracy: 0.9654 - val_loss: 0.0806 - val_accuracy: 0.9765\n",
      "Epoch 8/15\n",
      "422/422 [==============================] - 51s 120ms/step - loss: 0.1083 - accuracy: 0.9652 - val_loss: 0.0742 - val_accuracy: 0.9798\n",
      "Epoch 9/15\n",
      "422/422 [==============================] - 49s 116ms/step - loss: 0.1021 - accuracy: 0.9671 - val_loss: 0.0731 - val_accuracy: 0.9793\n",
      "Epoch 10/15\n",
      "422/422 [==============================] - 46s 108ms/step - loss: 0.0964 - accuracy: 0.9698 - val_loss: 0.0720 - val_accuracy: 0.9797\n",
      "Epoch 11/15\n",
      "422/422 [==============================] - 45s 108ms/step - loss: 0.0957 - accuracy: 0.9699 - val_loss: 0.0670 - val_accuracy: 0.9815\n",
      "Epoch 12/15\n",
      "422/422 [==============================] - 49s 115ms/step - loss: 0.0914 - accuracy: 0.9705 - val_loss: 0.0687 - val_accuracy: 0.9803\n",
      "Epoch 13/15\n",
      "422/422 [==============================] - 48s 113ms/step - loss: 0.0872 - accuracy: 0.9716 - val_loss: 0.0679 - val_accuracy: 0.9820\n",
      "Epoch 14/15\n",
      "422/422 [==============================] - 48s 115ms/step - loss: 0.0889 - accuracy: 0.9706 - val_loss: 0.0648 - val_accuracy: 0.9818\n",
      "Epoch 15/15\n",
      "422/422 [==============================] - 44s 105ms/step - loss: 0.0835 - accuracy: 0.9729 - val_loss: 0.0676 - val_accuracy: 0.9817\n",
      "Epoch 1/15\n",
      "422/422 [==============================] - 46s 108ms/step - loss: 0.7726 - accuracy: 0.7526 - val_loss: 0.2836 - val_accuracy: 0.9140\n",
      "Epoch 2/15\n",
      "422/422 [==============================] - 46s 110ms/step - loss: 0.3684 - accuracy: 0.8834 - val_loss: 0.2297 - val_accuracy: 0.9313\n",
      "Epoch 3/15\n",
      "422/422 [==============================] - 44s 105ms/step - loss: 0.3109 - accuracy: 0.9006 - val_loss: 0.2011 - val_accuracy: 0.9402\n",
      "Epoch 4/15\n",
      "422/422 [==============================] - 40s 94ms/step - loss: 0.2873 - accuracy: 0.9087 - val_loss: 0.1827 - val_accuracy: 0.9478\n",
      "Epoch 5/15\n",
      "422/422 [==============================] - 38s 90ms/step - loss: 0.2705 - accuracy: 0.9132 - val_loss: 0.1779 - val_accuracy: 0.9458\n",
      "Epoch 6/15\n",
      "422/422 [==============================] - 42s 100ms/step - loss: 0.2571 - accuracy: 0.9175 - val_loss: 0.1699 - val_accuracy: 0.9507\n",
      "Epoch 7/15\n",
      "422/422 [==============================] - 38s 89ms/step - loss: 0.2442 - accuracy: 0.9198 - val_loss: 0.1590 - val_accuracy: 0.9515\n",
      "Epoch 8/15\n",
      "422/422 [==============================] - 37s 88ms/step - loss: 0.2376 - accuracy: 0.9226 - val_loss: 0.1599 - val_accuracy: 0.9530\n",
      "Epoch 9/15\n",
      "422/422 [==============================] - 35s 83ms/step - loss: 0.2337 - accuracy: 0.9246 - val_loss: 0.1576 - val_accuracy: 0.9538\n",
      "Epoch 10/15\n",
      "422/422 [==============================] - 35s 83ms/step - loss: 0.2274 - accuracy: 0.9262 - val_loss: 0.1517 - val_accuracy: 0.9537\n",
      "Epoch 11/15\n",
      "422/422 [==============================] - 35s 84ms/step - loss: 0.2212 - accuracy: 0.9281 - val_loss: 0.1498 - val_accuracy: 0.9535\n",
      "Epoch 12/15\n",
      "422/422 [==============================] - 37s 89ms/step - loss: 0.2178 - accuracy: 0.9295 - val_loss: 0.1465 - val_accuracy: 0.9543\n",
      "Epoch 13/15\n",
      "422/422 [==============================] - 36s 84ms/step - loss: 0.2144 - accuracy: 0.9291 - val_loss: 0.1477 - val_accuracy: 0.9532\n",
      "Epoch 14/15\n",
      "422/422 [==============================] - 35s 83ms/step - loss: 0.2130 - accuracy: 0.9315 - val_loss: 0.1474 - val_accuracy: 0.9560\n",
      "Epoch 15/15\n",
      "422/422 [==============================] - 35s 83ms/step - loss: 0.2103 - accuracy: 0.9314 - val_loss: 0.1456 - val_accuracy: 0.9553\n"
     ]
    },
    {
     "data": {
      "text/plain": [
       "<tensorflow.python.keras.callbacks.History at 0x1cd8498d948>"
      ]
     },
     "execution_count": 28,
     "metadata": {},
     "output_type": "execute_result"
    }
   ],
   "source": [
    "batch_size = 128\n",
    "epochs = 15\n",
    "\n",
    "model_25.compile(loss=\"categorical_crossentropy\", optimizer=\"adam\", metrics=[\"accuracy\"])\n",
    "model_25.fit(X_train_noisy_25, y_train, batch_size=batch_size, epochs=epochs, validation_split=0.1)\n",
    "\n",
    "model_40.compile(loss=\"categorical_crossentropy\", optimizer=\"adam\", metrics=[\"accuracy\"])\n",
    "model_40.fit(X_train_noisy_40, y_train, batch_size=batch_size, epochs=epochs, validation_split=0.1)\n",
    "\n",
    "model_60.compile(loss=\"categorical_crossentropy\", optimizer=\"adam\", metrics=[\"accuracy\"])\n",
    "model_60.fit(X_train_noisy_60, y_train, batch_size=batch_size, epochs=epochs, validation_split=0.1)\n"
   ]
  },
  {
   "cell_type": "code",
   "execution_count": 29,
   "metadata": {},
   "outputs": [
    {
     "name": "stdout",
     "output_type": "stream",
     "text": [
      "Test loss noise 25: 0.037031494081020355\n",
      "Test accuracy noise 25: 0.9868999719619751\n",
      "Test loss noise 40: 0.06714973598718643\n",
      "Test accuracy noise 40: 0.9779999852180481\n",
      "Test loss noise 60: 0.1590907722711563\n",
      "Test accuracy noise 60: 0.9506999850273132\n"
     ]
    }
   ],
   "source": [
    "score = model_25.evaluate(X_test_noisy_25, y_test, verbose=0)\n",
    "print(\"Test loss noise 25:\", score[0])\n",
    "print(\"Test accuracy noise 25:\", score[1])\n",
    "\n",
    "score = model_40.evaluate(X_test_noisy_40, y_test, verbose=0)\n",
    "print(\"Test loss noise 40:\", score[0])\n",
    "print(\"Test accuracy noise 40:\", score[1])\n",
    "\n",
    "score = model_60.evaluate(X_test_noisy_60, y_test, verbose=0)\n",
    "print(\"Test loss noise 60:\", score[0])\n",
    "print(\"Test accuracy noise 60:\", score[1])"
   ]
  },
  {
   "cell_type": "code",
   "execution_count": 31,
   "metadata": {},
   "outputs": [
    {
     "name": "stdout",
     "output_type": "stream",
     "text": [
      "Epoch 1/15\n",
      "422/422 [==============================] - 44s 105ms/step - loss: 0.3750 - accuracy: 0.8908 - val_loss: 0.1103 - val_accuracy: 0.9700\n",
      "Epoch 2/15\n",
      "422/422 [==============================] - 46s 108ms/step - loss: 0.1081 - accuracy: 0.9670 - val_loss: 0.0726 - val_accuracy: 0.9793\n",
      "Epoch 3/15\n",
      "422/422 [==============================] - 44s 103ms/step - loss: 0.0795 - accuracy: 0.9754 - val_loss: 0.0644 - val_accuracy: 0.9808\n",
      "Epoch 4/15\n",
      "422/422 [==============================] - 46s 109ms/step - loss: 0.0656 - accuracy: 0.9798 - val_loss: 0.0598 - val_accuracy: 0.9832\n",
      "Epoch 5/15\n",
      "422/422 [==============================] - 51s 120ms/step - loss: 0.0552 - accuracy: 0.9829 - val_loss: 0.0602 - val_accuracy: 0.9822\n",
      "Epoch 6/15\n",
      "422/422 [==============================] - 54s 127ms/step - loss: 0.0478 - accuracy: 0.9851 - val_loss: 0.0518 - val_accuracy: 0.9858\n",
      "Epoch 7/15\n",
      "422/422 [==============================] - 50s 119ms/step - loss: 0.0425 - accuracy: 0.9869 - val_loss: 0.0513 - val_accuracy: 0.9858\n",
      "Epoch 8/15\n",
      "422/422 [==============================] - 46s 109ms/step - loss: 0.0370 - accuracy: 0.9882 - val_loss: 0.0516 - val_accuracy: 0.9852\n",
      "Epoch 9/15\n",
      "422/422 [==============================] - 48s 114ms/step - loss: 0.0314 - accuracy: 0.9901 - val_loss: 0.0483 - val_accuracy: 0.9870\n",
      "Epoch 10/15\n",
      "422/422 [==============================] - 43s 102ms/step - loss: 0.0272 - accuracy: 0.9914 - val_loss: 0.0527 - val_accuracy: 0.9857\n",
      "Epoch 11/15\n",
      "422/422 [==============================] - 43s 102ms/step - loss: 0.0237 - accuracy: 0.9925 - val_loss: 0.0461 - val_accuracy: 0.9880\n",
      "Epoch 12/15\n",
      "422/422 [==============================] - 45s 106ms/step - loss: 0.0198 - accuracy: 0.9936 - val_loss: 0.0578 - val_accuracy: 0.9858\n",
      "Epoch 13/15\n",
      "422/422 [==============================] - 45s 106ms/step - loss: 0.0177 - accuracy: 0.9945 - val_loss: 0.0583 - val_accuracy: 0.9870\n",
      "Epoch 14/15\n",
      "422/422 [==============================] - 43s 101ms/step - loss: 0.0150 - accuracy: 0.9956 - val_loss: 0.0588 - val_accuracy: 0.9855\n",
      "Epoch 15/15\n",
      "422/422 [==============================] - 43s 101ms/step - loss: 0.0127 - accuracy: 0.9959 - val_loss: 0.0594 - val_accuracy: 0.9867\n"
     ]
    },
    {
     "data": {
      "text/plain": [
       "<tensorflow.python.keras.callbacks.History at 0x1cd84c52708>"
      ]
     },
     "execution_count": 31,
     "metadata": {},
     "output_type": "execute_result"
    }
   ],
   "source": [
    "# removed dropout layer to see whether accuracy improves\n",
    "\n",
    "model_25_improve = keras.Sequential(\n",
    "    [\n",
    "        keras.Input(shape=input_shape),\n",
    "        layers.Conv2D(32, kernel_size=(3, 3), activation=\"relu\"),\n",
    "        layers.MaxPooling2D(pool_size=(2, 2)),\n",
    "        layers.Conv2D(64, kernel_size=(3, 3), activation=\"relu\"),\n",
    "        layers.MaxPooling2D(pool_size=(2, 2)),\n",
    "        layers.Flatten(),\n",
    "        layers.Dense(class_count, activation=\"softmax\"),\n",
    "    ]\n",
    ")\n",
    "\n",
    "model_25_improve.compile(loss=\"categorical_crossentropy\", optimizer=\"adam\", metrics=[\"accuracy\"])\n",
    "model_25_improve.fit(X_train_noisy_25, y_train, batch_size=batch_size, epochs=epochs, validation_split=0.1)\n"
   ]
  },
  {
   "cell_type": "code",
   "execution_count": 32,
   "metadata": {},
   "outputs": [
    {
     "name": "stdout",
     "output_type": "stream",
     "text": [
      "Test loss noise 25 (imporved): 0.052052032202482224\n",
      "Test accuracy noise 25 (imporved): 0.9847000241279602\n"
     ]
    }
   ],
   "source": [
    "score = model_25_improve.evaluate(X_test_noisy_25, y_test, verbose=0)\n",
    "print(\"Test loss noise 25 (imporved):\", score[0])\n",
    "print(\"Test accuracy noise 25 (imporved):\", score[1])"
   ]
  },
  {
   "cell_type": "code",
   "execution_count": 35,
   "metadata": {},
   "outputs": [
    {
     "name": "stdout",
     "output_type": "stream",
     "text": [
      "Epoch 1/15\n",
      "422/422 [==============================] - 50s 119ms/step - loss: 0.3181 - accuracy: 0.8980 - val_loss: 0.0759 - val_accuracy: 0.9778\n",
      "Epoch 2/15\n",
      "422/422 [==============================] - 49s 115ms/step - loss: 0.1032 - accuracy: 0.9676 - val_loss: 0.0531 - val_accuracy: 0.9847\n",
      "Epoch 3/15\n",
      "422/422 [==============================] - 47s 111ms/step - loss: 0.0753 - accuracy: 0.9762 - val_loss: 0.0471 - val_accuracy: 0.9852\n",
      "Epoch 4/15\n",
      "422/422 [==============================] - 52s 124ms/step - loss: 0.0623 - accuracy: 0.9800 - val_loss: 0.0459 - val_accuracy: 0.9852\n",
      "Epoch 5/15\n",
      "422/422 [==============================] - 46s 109ms/step - loss: 0.0533 - accuracy: 0.9824 - val_loss: 0.0448 - val_accuracy: 0.9877\n",
      "Epoch 6/15\n",
      "422/422 [==============================] - 46s 108ms/step - loss: 0.0453 - accuracy: 0.9853 - val_loss: 0.0390 - val_accuracy: 0.9900\n",
      "Epoch 7/15\n",
      "422/422 [==============================] - 53s 126ms/step - loss: 0.0423 - accuracy: 0.9861 - val_loss: 0.0416 - val_accuracy: 0.9878\n",
      "Epoch 8/15\n",
      "422/422 [==============================] - 49s 116ms/step - loss: 0.0388 - accuracy: 0.9875 - val_loss: 0.0371 - val_accuracy: 0.9907\n",
      "Epoch 9/15\n",
      "422/422 [==============================] - 54s 127ms/step - loss: 0.0348 - accuracy: 0.9884 - val_loss: 0.0378 - val_accuracy: 0.9905\n",
      "Epoch 10/15\n",
      "422/422 [==============================] - 48s 115ms/step - loss: 0.0302 - accuracy: 0.9900 - val_loss: 0.0373 - val_accuracy: 0.9902\n",
      "Epoch 11/15\n",
      "422/422 [==============================] - 54s 127ms/step - loss: 0.0279 - accuracy: 0.9904 - val_loss: 0.0361 - val_accuracy: 0.9903\n",
      "Epoch 12/15\n",
      "422/422 [==============================] - 46s 110ms/step - loss: 0.0266 - accuracy: 0.9911 - val_loss: 0.0438 - val_accuracy: 0.9897\n",
      "Epoch 13/15\n",
      "422/422 [==============================] - 42s 99ms/step - loss: 0.0261 - accuracy: 0.9913 - val_loss: 0.0382 - val_accuracy: 0.9900\n",
      "Epoch 14/15\n",
      "422/422 [==============================] - 42s 98ms/step - loss: 0.0240 - accuracy: 0.9916 - val_loss: 0.0371 - val_accuracy: 0.9900\n",
      "Epoch 15/15\n",
      "422/422 [==============================] - 47s 112ms/step - loss: 0.0227 - accuracy: 0.9924 - val_loss: 0.0336 - val_accuracy: 0.9908\n"
     ]
    },
    {
     "data": {
      "text/plain": [
       "<tensorflow.python.keras.callbacks.History at 0x1cd856a63c8>"
      ]
     },
     "execution_count": 35,
     "metadata": {},
     "output_type": "execute_result"
    }
   ],
   "source": [
    "# add dropout layer back and more dense layers to see whether accuracy improves\n",
    "\n",
    "model_25_improve_2 = keras.Sequential(\n",
    "    [\n",
    "        keras.Input(shape=input_shape),\n",
    "        layers.Conv2D(32, kernel_size=(3, 3), activation=\"relu\"),\n",
    "        layers.MaxPooling2D(pool_size=(2, 2)),\n",
    "        layers.Conv2D(64, kernel_size=(3, 3), activation=\"relu\"),\n",
    "        layers.MaxPooling2D(pool_size=(2, 2)),\n",
    "        layers.Flatten(),\n",
    "        layers.Dropout(0.5),\n",
    "        layers.Dense(256, activation='relu'),\n",
    "        layers.Dense(256, activation='relu'),\n",
    "        layers.Dense(class_count, activation=\"softmax\"),\n",
    "    ]\n",
    ")\n",
    "\n",
    "model_25_improve_2.compile(loss=\"categorical_crossentropy\", optimizer=\"adam\", metrics=[\"accuracy\"])\n",
    "model_25_improve_2.fit(X_train_noisy_25, y_train, batch_size=batch_size, epochs=epochs, validation_split=0.1)"
   ]
  },
  {
   "cell_type": "code",
   "execution_count": 36,
   "metadata": {},
   "outputs": [
    {
     "name": "stdout",
     "output_type": "stream",
     "text": [
      "Test loss noise 25 (imporved): 0.03287292644381523\n",
      "Test accuracy noise 25 (imporved): 0.9904000163078308\n"
     ]
    }
   ],
   "source": [
    "score = model_25_improve_2.evaluate(X_test_noisy_25, y_test, verbose=0)\n",
    "print(\"Test loss noise 25 (imporved):\", score[0])\n",
    "print(\"Test accuracy noise 25 (imporved):\", score[1])"
   ]
  },
  {
   "cell_type": "code",
   "execution_count": 37,
   "metadata": {},
   "outputs": [
    {
     "name": "stdout",
     "output_type": "stream",
     "text": [
      "Epoch 1/15\n",
      "422/422 [==============================] - 46s 109ms/step - loss: 0.6454 - accuracy: 0.7848 - val_loss: 0.2178 - val_accuracy: 0.9320\n",
      "Epoch 2/15\n",
      "422/422 [==============================] - 52s 124ms/step - loss: 0.2928 - accuracy: 0.9050 - val_loss: 0.1698 - val_accuracy: 0.9447\n",
      "Epoch 3/15\n",
      "422/422 [==============================] - 58s 137ms/step - loss: 0.2373 - accuracy: 0.9225 - val_loss: 0.1437 - val_accuracy: 0.9545\n",
      "Epoch 4/15\n",
      "422/422 [==============================] - 51s 122ms/step - loss: 0.2039 - accuracy: 0.9312 - val_loss: 0.1441 - val_accuracy: 0.9528\n",
      "Epoch 5/15\n",
      "422/422 [==============================] - 50s 118ms/step - loss: 0.1883 - accuracy: 0.9375 - val_loss: 0.1249 - val_accuracy: 0.9588\n",
      "Epoch 6/15\n",
      "422/422 [==============================] - 55s 130ms/step - loss: 0.1744 - accuracy: 0.9412 - val_loss: 0.1221 - val_accuracy: 0.9603\n",
      "Epoch 7/15\n",
      "422/422 [==============================] - 51s 120ms/step - loss: 0.1585 - accuracy: 0.9468 - val_loss: 0.1268 - val_accuracy: 0.9595\n",
      "Epoch 8/15\n",
      "422/422 [==============================] - 50s 118ms/step - loss: 0.1510 - accuracy: 0.9478 - val_loss: 0.1293 - val_accuracy: 0.9593\n",
      "Epoch 9/15\n",
      "422/422 [==============================] - 55s 131ms/step - loss: 0.1424 - accuracy: 0.9514 - val_loss: 0.1174 - val_accuracy: 0.9620\n",
      "Epoch 10/15\n",
      "422/422 [==============================] - 54s 128ms/step - loss: 0.1359 - accuracy: 0.9535 - val_loss: 0.1161 - val_accuracy: 0.9623\n",
      "Epoch 11/15\n",
      "422/422 [==============================] - 54s 128ms/step - loss: 0.1248 - accuracy: 0.9565 - val_loss: 0.1217 - val_accuracy: 0.9595\n",
      "Epoch 12/15\n",
      "422/422 [==============================] - 52s 123ms/step - loss: 0.1212 - accuracy: 0.9584 - val_loss: 0.1244 - val_accuracy: 0.9608\n",
      "Epoch 13/15\n",
      "422/422 [==============================] - 49s 117ms/step - loss: 0.1159 - accuracy: 0.9600 - val_loss: 0.1176 - val_accuracy: 0.9642\n",
      "Epoch 14/15\n",
      "422/422 [==============================] - 52s 123ms/step - loss: 0.1130 - accuracy: 0.9603 - val_loss: 0.1172 - val_accuracy: 0.9618\n",
      "Epoch 15/15\n",
      "422/422 [==============================] - 51s 120ms/step - loss: 0.1079 - accuracy: 0.9619 - val_loss: 0.1206 - val_accuracy: 0.9600\n"
     ]
    },
    {
     "data": {
      "text/plain": [
       "<tensorflow.python.keras.callbacks.History at 0x1cd8a9cbf08>"
      ]
     },
     "execution_count": 37,
     "metadata": {},
     "output_type": "execute_result"
    }
   ],
   "source": [
    "# add dropout layer back and more dense layers to see whether accuracy improves in noise 60\n",
    "\n",
    "model_60_improve = keras.Sequential(\n",
    "    [\n",
    "        keras.Input(shape=input_shape),\n",
    "        layers.Conv2D(32, kernel_size=(3, 3), activation=\"relu\"),\n",
    "        layers.MaxPooling2D(pool_size=(2, 2)),\n",
    "        layers.Conv2D(64, kernel_size=(3, 3), activation=\"relu\"),\n",
    "        layers.MaxPooling2D(pool_size=(2, 2)),\n",
    "        layers.Flatten(),\n",
    "        layers.Dropout(0.5),\n",
    "        layers.Dense(256, activation='relu'),\n",
    "        layers.Dense(256, activation='relu'),\n",
    "        layers.Dense(class_count, activation=\"softmax\"),\n",
    "    ]\n",
    ")\n",
    "\n",
    "model_60_improve.compile(loss=\"categorical_crossentropy\", optimizer=\"adam\", metrics=[\"accuracy\"])\n",
    "model_60_improve.fit(X_train_noisy_60, y_train, batch_size=batch_size, epochs=epochs, validation_split=0.1)"
   ]
  },
  {
   "cell_type": "code",
   "execution_count": 40,
   "metadata": {},
   "outputs": [
    {
     "name": "stdout",
     "output_type": "stream",
     "text": [
      "Test loss noise 60 (imporved): 0.13063514232635498\n",
      "Test accuracy noise 60 (imporved): 0.9613999724388123\n"
     ]
    }
   ],
   "source": [
    "score = model_60_improve.evaluate(X_test_noisy_60, y_test, verbose=0)\n",
    "print(\"Test loss noise 60 (imporved):\", score[0])\n",
    "print(\"Test accuracy noise 60 (imporved):\", score[1])"
   ]
  },
  {
   "cell_type": "code",
   "execution_count": 42,
   "metadata": {},
   "outputs": [
    {
     "name": "stdout",
     "output_type": "stream",
     "text": [
      "Epoch 1/15\n",
      "422/422 [==============================] - 51s 120ms/step - loss: 0.6822 - accuracy: 0.7679 - val_loss: 0.2520 - val_accuracy: 0.9217\n",
      "Epoch 2/15\n",
      "422/422 [==============================] - 52s 122ms/step - loss: 0.2997 - accuracy: 0.9021 - val_loss: 0.1686 - val_accuracy: 0.9462\n",
      "Epoch 3/15\n",
      "422/422 [==============================] - 53s 126ms/step - loss: 0.2475 - accuracy: 0.9190 - val_loss: 0.1852 - val_accuracy: 0.9422\n",
      "Epoch 4/15\n",
      "422/422 [==============================] - 50s 118ms/step - loss: 0.2200 - accuracy: 0.9281 - val_loss: 0.1477 - val_accuracy: 0.9535\n",
      "Epoch 5/15\n",
      "422/422 [==============================] - 55s 131ms/step - loss: 0.2004 - accuracy: 0.9353 - val_loss: 0.1370 - val_accuracy: 0.9548\n",
      "Epoch 6/15\n",
      "422/422 [==============================] - 53s 125ms/step - loss: 0.1842 - accuracy: 0.9392 - val_loss: 0.1275 - val_accuracy: 0.9590\n",
      "Epoch 7/15\n",
      "422/422 [==============================] - 52s 122ms/step - loss: 0.1737 - accuracy: 0.9419 - val_loss: 0.1324 - val_accuracy: 0.9530\n",
      "Epoch 8/15\n",
      "422/422 [==============================] - 52s 122ms/step - loss: 0.1629 - accuracy: 0.9469 - val_loss: 0.1361 - val_accuracy: 0.9562\n",
      "Epoch 9/15\n",
      "422/422 [==============================] - 56s 132ms/step - loss: 0.1527 - accuracy: 0.9492 - val_loss: 0.1284 - val_accuracy: 0.9585\n",
      "Epoch 10/15\n",
      "422/422 [==============================] - 54s 128ms/step - loss: 0.1451 - accuracy: 0.9512 - val_loss: 0.1321 - val_accuracy: 0.9553\n",
      "Epoch 11/15\n",
      "422/422 [==============================] - 54s 129ms/step - loss: 0.1362 - accuracy: 0.9546 - val_loss: 0.1191 - val_accuracy: 0.9640\n",
      "Epoch 12/15\n",
      "422/422 [==============================] - 54s 129ms/step - loss: 0.1299 - accuracy: 0.9562 - val_loss: 0.1259 - val_accuracy: 0.9605\n",
      "Epoch 13/15\n",
      "422/422 [==============================] - 51s 122ms/step - loss: 0.1235 - accuracy: 0.9576 - val_loss: 0.1262 - val_accuracy: 0.9607\n",
      "Epoch 14/15\n",
      "422/422 [==============================] - 51s 121ms/step - loss: 0.1251 - accuracy: 0.9578 - val_loss: 0.1213 - val_accuracy: 0.9623\n",
      "Epoch 15/15\n",
      "422/422 [==============================] - 49s 117ms/step - loss: 0.1156 - accuracy: 0.9613 - val_loss: 0.1234 - val_accuracy: 0.9613\n"
     ]
    },
    {
     "data": {
      "text/plain": [
       "<tensorflow.python.keras.callbacks.History at 0x1cd96fa01c8>"
      ]
     },
     "execution_count": 42,
     "metadata": {},
     "output_type": "execute_result"
    }
   ],
   "source": [
    "# add more dense layers to see whether accuracy improves in noise 60\n",
    "\n",
    "model_60_improve_2 = keras.Sequential(\n",
    "    [\n",
    "        keras.Input(shape=input_shape),\n",
    "        layers.Conv2D(32, kernel_size=(3, 3), activation=\"relu\"),\n",
    "        layers.MaxPooling2D(pool_size=(2, 2)),\n",
    "        layers.Conv2D(64, kernel_size=(3, 3), activation=\"relu\"),\n",
    "        layers.MaxPooling2D(pool_size=(2, 2)),\n",
    "        layers.Flatten(),\n",
    "        layers.Dropout(0.5),\n",
    "        layers.Dense(256, activation='relu'),\n",
    "        layers.Dense(256, activation='relu'),\n",
    "        layers.Dense(256, activation='relu'),\n",
    "        layers.Dense(256, activation='relu'),\n",
    "        layers.Dense(class_count, activation=\"softmax\"),\n",
    "    ]\n",
    ")\n",
    "\n",
    "model_60_improve_2.compile(loss=\"categorical_crossentropy\", optimizer=\"adam\", metrics=[\"accuracy\"])\n",
    "model_60_improve_2.fit(X_train_noisy_60, y_train, batch_size=batch_size, epochs=epochs, validation_split=0.1)"
   ]
  },
  {
   "cell_type": "code",
   "execution_count": 43,
   "metadata": {},
   "outputs": [
    {
     "name": "stdout",
     "output_type": "stream",
     "text": [
      "Test loss noise 60 (imporved): 0.13029839098453522\n",
      "Test accuracy noise 60 (imporved): 0.9606000185012817\n"
     ]
    }
   ],
   "source": [
    "score = model_60_improve_2.evaluate(X_test_noisy_60, y_test, verbose=0)\n",
    "print(\"Test loss noise 60 (imporved):\", score[0])\n",
    "print(\"Test accuracy noise 60 (imporved):\", score[1])"
   ]
  },
  {
   "cell_type": "code",
   "execution_count": 46,
   "metadata": {},
   "outputs": [
    {
     "name": "stdout",
     "output_type": "stream",
     "text": [
      "Epoch 1/15\n",
      "422/422 [==============================] - 30s 71ms/step - loss: 1.1630 - accuracy: 0.6011 - val_loss: 0.4955 - val_accuracy: 0.8453\n",
      "Epoch 2/15\n",
      "422/422 [==============================] - 29s 69ms/step - loss: 0.6553 - accuracy: 0.7864 - val_loss: 0.3473 - val_accuracy: 0.8942\n",
      "Epoch 3/15\n",
      "422/422 [==============================] - 28s 67ms/step - loss: 0.5371 - accuracy: 0.8255 - val_loss: 0.2932 - val_accuracy: 0.9098\n",
      "Epoch 4/15\n",
      "422/422 [==============================] - 30s 71ms/step - loss: 0.4704 - accuracy: 0.8497 - val_loss: 0.2623 - val_accuracy: 0.9145\n",
      "Epoch 5/15\n",
      "422/422 [==============================] - 29s 68ms/step - loss: 0.4281 - accuracy: 0.8624 - val_loss: 0.2513 - val_accuracy: 0.9240\n",
      "Epoch 6/15\n",
      "422/422 [==============================] - 28s 67ms/step - loss: 0.3967 - accuracy: 0.8714 - val_loss: 0.2353 - val_accuracy: 0.9270\n",
      "Epoch 7/15\n",
      "422/422 [==============================] - 30s 72ms/step - loss: 0.3683 - accuracy: 0.8819 - val_loss: 0.2154 - val_accuracy: 0.9318\n",
      "Epoch 8/15\n",
      "422/422 [==============================] - 26s 61ms/step - loss: 0.3535 - accuracy: 0.8870 - val_loss: 0.2137 - val_accuracy: 0.9318\n",
      "Epoch 9/15\n",
      "422/422 [==============================] - 24s 57ms/step - loss: 0.3410 - accuracy: 0.8888 - val_loss: 0.2037 - val_accuracy: 0.9367\n",
      "Epoch 10/15\n",
      "422/422 [==============================] - 24s 58ms/step - loss: 0.3246 - accuracy: 0.8968 - val_loss: 0.2080 - val_accuracy: 0.9338\n",
      "Epoch 11/15\n",
      "422/422 [==============================] - 24s 57ms/step - loss: 0.3202 - accuracy: 0.8972 - val_loss: 0.2218 - val_accuracy: 0.9355\n",
      "Epoch 12/15\n",
      "422/422 [==============================] - 28s 66ms/step - loss: 0.3078 - accuracy: 0.9003 - val_loss: 0.2090 - val_accuracy: 0.9390\n",
      "Epoch 13/15\n",
      "422/422 [==============================] - 27s 65ms/step - loss: 0.3048 - accuracy: 0.9016 - val_loss: 0.2130 - val_accuracy: 0.9375\n",
      "Epoch 14/15\n",
      "422/422 [==============================] - 27s 65ms/step - loss: 0.2899 - accuracy: 0.9059 - val_loss: 0.2116 - val_accuracy: 0.9398\n",
      "Epoch 15/15\n",
      "422/422 [==============================] - 27s 65ms/step - loss: 0.2823 - accuracy: 0.9092 - val_loss: 0.2142 - val_accuracy: 0.9392\n"
     ]
    },
    {
     "data": {
      "text/plain": [
       "<tensorflow.python.keras.callbacks.History at 0x1cd9bfed348>"
      ]
     },
     "execution_count": 46,
     "metadata": {},
     "output_type": "execute_result"
    }
   ],
   "source": [
    "# add more conv layers to see whether accuracy improves in noise 60\n",
    "\n",
    "model_60_improve_3 = keras.Sequential(\n",
    "    [\n",
    "        keras.Input(shape=input_shape),\n",
    "        layers.Conv2D(16, kernel_size=(5, 5), strides=(1, 1), activation=\"relu\"),\n",
    "        layers.MaxPooling2D(pool_size=(2, 2)),\n",
    "        layers.Conv2D(32, kernel_size=(3, 3), activation=\"relu\"),\n",
    "        layers.MaxPooling2D(pool_size=(2, 2)),\n",
    "        layers.Conv2D(64, kernel_size=(3, 3), activation=\"relu\"),\n",
    "        layers.MaxPooling2D(pool_size=(2, 2)),\n",
    "        layers.Flatten(),\n",
    "        layers.Dropout(0.5),\n",
    "        layers.Dense(256, activation='relu'),\n",
    "        layers.Dense(256, activation='relu'),\n",
    "        layers.Dense(class_count, activation=\"softmax\"),\n",
    "    ]\n",
    ")\n",
    "\n",
    "model_60_improve_3.compile(loss=\"categorical_crossentropy\", optimizer=\"adam\", metrics=[\"accuracy\"])\n",
    "model_60_improve_3.fit(X_train_noisy_60, y_train, batch_size=batch_size, epochs=epochs, validation_split=0.1)"
   ]
  },
  {
   "cell_type": "code",
   "execution_count": 47,
   "metadata": {},
   "outputs": [
    {
     "name": "stdout",
     "output_type": "stream",
     "text": [
      "Test loss noise 60 (imporved): 0.22801043093204498\n",
      "Test accuracy noise 60 (imporved): 0.9345999956130981\n"
     ]
    }
   ],
   "source": [
    "score = model_60_improve_3.evaluate(X_test_noisy_60, y_test, verbose=0)\n",
    "print(\"Test loss noise 60 (imporved):\", score[0])\n",
    "print(\"Test accuracy noise 60 (imporved):\", score[1])"
   ]
  },
  {
   "cell_type": "code",
   "execution_count": null,
   "metadata": {},
   "outputs": [],
   "source": []
  }
 ],
 "metadata": {
  "kernelspec": {
   "display_name": "Python 3",
   "language": "python",
   "name": "python3"
  },
  "language_info": {
   "codemirror_mode": {
    "name": "ipython",
    "version": 3
   },
   "file_extension": ".py",
   "mimetype": "text/x-python",
   "name": "python",
   "nbconvert_exporter": "python",
   "pygments_lexer": "ipython3",
   "version": "3.7.5"
  }
 },
 "nbformat": 4,
 "nbformat_minor": 2
}
