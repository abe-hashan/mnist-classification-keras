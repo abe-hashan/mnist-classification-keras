{
 "cells": [
  {
   "cell_type": "code",
   "execution_count": 20,
   "metadata": {},
   "outputs": [],
   "source": [
    "#Imports\n",
    "\n",
    "from tensorflow import keras\n",
    "from keras.datasets import mnist\n",
    "from matplotlib import pyplot as plt\n",
    "from tensorflow.keras import layers\n",
    "import numpy as np"
   ]
  },
  {
   "cell_type": "code",
   "execution_count": 21,
   "metadata": {},
   "outputs": [],
   "source": [
    "# Load pre-shuffled MNIST data into train and test sets\n",
    "\n",
    "(X_train, y_train), (X_test, y_test) = mnist.load_data()"
   ]
  },
  {
   "cell_type": "code",
   "execution_count": 22,
   "metadata": {},
   "outputs": [
    {
     "name": "stdout",
     "output_type": "stream",
     "text": [
      "(60000, 28, 28)\n",
      "(60000,)\n",
      "(10000, 28, 28)\n",
      "(10000,)\n"
     ]
    }
   ],
   "source": [
    "#Exploring shape of test set\n",
    "\n",
    "print(X_train.shape) \n",
    "print(y_train.shape) \n",
    "print(X_test.shape) \n",
    "print(y_test.shape) "
   ]
  },
  {
   "cell_type": "code",
   "execution_count": 23,
   "metadata": {},
   "outputs": [
    {
     "data": {
      "text/plain": [
       "<matplotlib.image.AxesImage at 0x1cd9c01b148>"
      ]
     },
     "execution_count": 23,
     "metadata": {},
     "output_type": "execute_result"
    },
    {
     "data": {
      "image/png": "[encoded data removed]",
      "text/plain": [
       "<Figure size 432x288 with 1 Axes>"
      ]
     },
     "metadata": {
      "needs_background": "light"
     },
     "output_type": "display_data"
    }
   ],
   "source": [
    "#Plotting the first image of training set\n",
    "\n",
    "plt.imshow(X_train[0])"
   ]
  },
  {
   "cell_type": "code",
   "execution_count": 24,
   "metadata": {},
   "outputs": [
    {
     "name": "stdout",
     "output_type": "stream",
     "text": [
      "(60000, 28, 28, 1)\n",
      "(10000, 28, 28, 1)\n"
     ]
    }
   ],
   "source": [
    "# reshaping the dimensions of images upto 4 as required by keras\n",
    "\n",
    "X_train = np.expand_dims(X_train, -1)\n",
    "X_test = np.expand_dims(X_test, -1)\n",
    "\n",
    "# See how it is rehaped\n",
    "\n",
    "input_shape = (28, 28, 1)\n",
    "\n",
    "# Making all the values as float to preserve decimal points after a division\n",
    "\n",
    "X_train = X_train.astype('float32')\n",
    "X_test = X_test.astype('float32')\n",
    "\n",
    "# Normalizing the values to be in the range of 0 - 1\n",
    "\n",
    "X_train /= 255\n",
    "X_test /= 255\n",
    "\n",
    "print(X_train.shape) \n",
    "print(X_test.shape) \n",
    "\n"
   ]
  },
  {
   "cell_type": "code",
   "execution_count": 25,
   "metadata": {},
   "outputs": [],
   "source": [
    "# Adding noise of 0.25\n",
    "\n",
    "noise_factor = 0.25\n",
    "X_train_noisy_25 = X_train + noise_factor * np.random.normal(loc=0.0, scale=1.0, size=X_train.shape)\n",
    "X_test_noisy_25 = X_test + noise_factor * np.random.normal(loc=0.0, scale=1.0, size=X_test.shape)\n",
    "X_train_noisy_25 = np.clip(X_train_noisy_25, 0. , 1.)\n",
    "X_test_noisy_25 = np.clip(X_test_noisy_25, 0. , 1.)\n",
    "\n",
    "# Adding noise of 0.40\n",
    "\n",
    "noise_factor = 0.40\n",
    "X_train_noisy_40 = X_train + noise_factor * np.random.normal(loc=0.0, scale=1.0, size=X_train.shape)\n",
    "X_test_noisy_40 = X_test + noise_factor * np.random.normal(loc=0.0, scale=1.0, size=X_test.shape)\n",
    "X_train_noisy_40 = np.clip(X_train_noisy_40, 0. , 1.)\n",
    "X_test_noisy_40 = np.clip(X_test_noisy_40, 0. , 1.)\n",
    "\n",
    "# Adding noise of 0.60\n",
    "\n",
    "noise_factor = 0.60\n",
    "X_train_noisy_60 = X_train + noise_factor * np.random.normal(loc=0.0, scale=1.0, size=X_train.shape)\n",
    "X_test_noisy_60 = X_test + noise_factor * np.random.normal(loc=0.0, scale=1.0, size=X_test.shape)\n",
    "X_train_noisy_60 = np.clip(X_train_noisy_60, 0. , 1.)\n",
    "X_test_noisy_60 = np.clip(X_test_noisy_60, 0. , 1.)"
   ]
  },
  {
   "cell_type": "code",
   "execution_count": 26,
   "metadata": {},
   "outputs": [
    {
     "name": "stdout",
     "output_type": "stream",
     "text": [
      "[5 0 4 ... 5 6 8]\n"
     ]
    }
   ],
   "source": [
    "print(y_train)\n",
    "\n",
    "# one hot encoding train and test classes \n",
    "class_count = 10\n",
    "y_train = keras.utils.to_categorical(y_train, class_count)\n",
    "y_test = keras.utils.to_categorical(y_test, class_count)\n"
   ]
  },
  {
   "cell_type": "code",
   "execution_count": 27,
   "metadata": {},
   "outputs": [],
   "source": [
    "model_25 = keras.Sequential(\n",
    "    [\n",
    "        keras.Input(shape=input_shape),\n",
    "        layers.Conv2D(32, kernel_size=(3, 3), activation=\"relu\"),\n",
    "        layers.MaxPooling2D(pool_size=(2, 2)),\n",
    "        layers.Conv2D(64, kernel_size=(3, 3), activation=\"relu\"),\n",
    "        layers.MaxPooling2D(pool_size=(2, 2)),\n",
    "        layers.Flatten(),\n",
    "        layers.Dropout(0.5),\n",
    "        layers.Dense(class_count, activation=\"softmax\"),\n",
    "    ]\n",
    ")\n",
    "\n",
    "model_40 = keras.Sequential(\n",
    "    [\n",
    "        keras.Input(shape=input_shape),\n",
    "        layers.Conv2D(32, kernel_size=(3, 3), activation=\"relu\"),\n",
    "        layers.MaxPooling2D(pool_size=(2, 2)),\n",
    "        layers.Conv2D(64, kernel_size=(3, 3), activation=\"relu\"),\n",
    "        layers.MaxPooling2D(pool_size=(2, 2)),\n",
    "        layers.Flatten(),\n",
    "        layers.Dropout(0.5),\n",
    "        layers.Dense(class_count, activation=\"softmax\"),\n",
    "    ]\n",
    ")\n",
    "\n",
    "model_60 = keras.Sequential(\n",
    "    [\n",
    "        keras.Input(shape=input_shape),\n",
    "        layers.Conv2D(32, kernel_size=(3, 3), activation=\"relu\"),\n",
    "        layers.MaxPooling2D(pool_size=(2, 2)),\n",
    "        layers.Conv2D(64, kernel_size=(3, 3), activation=\"relu\"),\n",
    "        layers.MaxPooling2D(pool_size=(2, 2)),\n",
    "        layers.Flatten(),\n",
    "        layers.Dropout(0.5),\n",
    "        layers.Dense(class_count, activation=\"softmax\"),\n",
    "    ]\n",
    ")"
   ]
  },
  {
   "cell_type": "code",
   "execution_count": 28,
   "metadata": {},
   "outputs": [
    {
     "name": "stdout",
     "output_type": "stream",
     "text": [
      "Epoch 1/15\n",
      "422/422 [==============================] - 50s 119ms/step - loss: 0.4658 - accuracy: 0.8602 - val_loss: 0.1109 - val_accuracy: 0.9693\n",
      "Epoch 2/15\n",
      "422/422 [==============================] - 48s 113ms/step - loss: 0.1517 - accuracy: 0.9539 - val_loss: 0.0800 - val_accuracy: 0.9787\n",
      "Epoch 3/15\n",
      "422/422 [==============================] - 52s 123ms/step - loss: 0.1145 - accuracy: 0.9650 - val_loss: 0.0670 - val_accuracy: 0.9823\n",
      "Epoch 4/15\n",
      "422/422 [==============================] - 47s 111ms/step - loss: 0.0962 - accuracy: 0.9704 - val_loss: 0.0599 - val_accuracy: 0.9830\n",
      "Epoch 5/15\n",
      "422/422 [==============================] - 46s 109ms/step - loss: 0.0881 - accuracy: 0.9729 - val_loss: 0.0535 - val_accuracy: 0.9852\n",
      "Epoch 6/15\n",
      "422/422 [==============================] - 46s 109ms/step - loss: 0.0800 - accuracy: 0.9750 - val_loss: 0.0521 - val_accuracy: 0.9853\n",
      "Epoch 7/15\n",
      "422/422 [==============================] - 48s 114ms/step - loss: 0.0729 - accuracy: 0.9765 - val_loss: 0.0476 - val_accuracy: 0.9867\n",
      "Epoch 8/15\n",
      "422/422 [==============================] - 48s 113ms/step - loss: 0.0683 - accuracy: 0.9783 - val_loss: 0.0475 - val_accuracy: 0.9872\n",
      "Epoch 9/15\n",
      "422/422 [==============================] - 47s 111ms/step - loss: 0.0652 - accuracy: 0.9797 - val_loss: 0.0460 - val_accuracy: 0.9860\n",
      "Epoch 10/15\n",
      "422/422 [==============================] - 50s 118ms/step - loss: 0.0620 - accuracy: 0.9804 - val_loss: 0.0466 - val_accuracy: 0.9850\n",
      "Epoch 11/15\n",
      "422/422 [==============================] - 49s 117ms/step - loss: 0.0592 - accuracy: 0.9810 - val_loss: 0.0434 - val_accuracy: 0.9883\n",
      "Epoch 12/15\n",
      "422/422 [==============================] - 46s 108ms/step - loss: 0.0576 - accuracy: 0.9820 - val_loss: 0.0453 - val_accuracy: 0.9872\n",
      "Epoch 13/15\n",
      "422/422 [==============================] - 51s 121ms/step - loss: 0.0540 - accuracy: 0.9828 - val_loss: 0.0424 - val_accuracy: 0.9883\n",
      "Epoch 14/15\n",
      "422/422 [==============================] - 53s 127ms/step - loss: 0.0522 - accuracy: 0.9833 - val_loss: 0.0413 - val_accuracy: 0.9888\n",
      "Epoch 15/15\n",
      "422/422 [==============================] - 48s 114ms/step - loss: 0.0504 - accuracy: 0.9841 - val_loss: 0.0434 - val_accuracy: 0.9887\n",
      "Epoch 1/15\n",
      "422/422 [==============================] - 53s 125ms/step - loss: 0.5798 - accuracy: 0.8198 - val_loss: 0.1690 - val_accuracy: 0.9532\n",
      "Epoch 2/15\n",
      "422/422 [==============================] - 48s 113ms/step - loss: 0.2133 - accuracy: 0.9338 - val_loss: 0.1176 - val_accuracy: 0.9662\n",
      "Epoch 3/15\n",
      "422/422 [==============================] - 43s 102ms/step - loss: 0.1664 - accuracy: 0.9480 - val_loss: 0.1060 - val_accuracy: 0.9703\n",
      "Epoch 4/15\n",
      "422/422 [==============================] - 48s 114ms/step - loss: 0.1443 - accuracy: 0.9549 - val_loss: 0.0987 - val_accuracy: 0.9712\n",
      "Epoch 5/15\n",
      "422/422 [==============================] - 53s 125ms/step - loss: 0.1313 - accuracy: 0.9589 - val_loss: 0.0866 - val_accuracy: 0.9772\n",
      "Epoch 6/15\n",
      "422/422 [==============================] - 49s 116ms/step - loss: 0.1222 - accuracy: 0.9614 - val_loss: 0.0859 - val_accuracy: 0.9767\n",
      "Epoch 7/15\n",
      "422/422 [==============================] - 44s 104ms/step - loss: 0.1106 - accuracy: 0.9654 - val_loss: 0.0806 - val_accuracy: 0.9765\n",
      "Epoch 8/15\n",
      "422/422 [==============================] - 51s 120ms/step - loss: 0.1083 - accuracy: 0.9652 - val_loss: 0.0742 - val_accuracy: 0.9798\n",
      "Epoch 9/15\n",
      "422/422 [==============================] - 49s 116ms/step - loss: 0.1021 - accuracy: 0.9671 - val_loss: 0.0731 - val_accuracy: 0.9793\n",
      "Epoch 10/15\n",
      "422/422 [==============================] - 46s 108ms/step - loss: 0.0964 - accuracy: 0.9698 - val_loss: 0.0720 - val_accuracy: 0.9797\n",
      "Epoch 11/15\n",
      "422/422 [==============================] - 45s 108ms/step - loss: 0.0957 - accuracy: 0.9699 - val_loss: 0.0670 - val_accuracy: 0.9815\n",
      "Epoch 12/15\n",
      "422/422 [==============================] - 49s 115ms/step - loss: 0.0914 - accuracy: 0.9705 - val_loss: 0.0687 - val_accuracy: 0.9803\n",
      "Epoch 13/15\n",
      "422/422 [==============================] - 48s 113ms/step - loss: 0.0872 - accuracy: 0.9716 - val_loss: 0.0679 - val_accuracy: 0.9820\n",
      "Epoch 14/15\n",
      "422/422 [==============================] - 48s 115ms/step - loss: 0.0889 - accuracy: 0.9706 - val_loss: 0.0648 - val_accuracy: 0.9818\n",
      "Epoch 15/15\n",
      "422/422 [==============================] - 44s 105ms/step - loss: 0.0835 - accuracy: 0.9729 - val_loss: 0.0676 - val_accuracy: 0.9817\n",
      "Epoch 1/15\n",
      "422/422 [==============================] - 46s 108ms/step - loss: 0.7726 - accuracy: 0.7526 - val_loss: 0.2836 - val_accuracy: 0.9140\n",
      "Epoch 2/15\n",
      "422/422 [==============================] - 46s 110ms/step - loss: 0.3684 - accuracy: 0.8834 - val_loss: 0.2297 - val_accuracy: 0.9313\n",
      "Epoch 3/15\n",
      "422/422 [==============================] - 44s 105ms/step - loss: 0.3109 - accuracy: 0.9006 - val_loss: 0.2011 - val_accuracy: 0.9402\n",
      "Epoch 4/15\n",
      "422/422 [==============================] - 40s 94ms/step - loss: 0.2873 - accuracy: 0.9087 - val_loss: 0.1827 - val_accuracy: 0.9478\n",
      "Epoch 5/15\n",
      "422/422 [==============================] - 38s 90ms/step - loss: 0.2705 - accuracy: 0.9132 - val_loss: 0.1779 - val_accuracy: 0.9458\n",
      "Epoch 6/15\n",
      "422/422 [==============================] - 42s 100ms/step - loss: 0.2571 - accuracy: 0.9175 - val_loss: 0.1699 - val_accuracy: 0.9507\n",
      "Epoch 7/15\n",
      "422/422 [==============================] - 38s 89ms/step - loss: 0.2442 - accuracy: 0.9198 - val_loss: 0.1590 - val_accuracy: 0.9515\n",
      "Epoch 8/15\n",
      "422/422 [==============================] - 37s 88ms/step - loss: 0.2376 - accuracy: 0.9226 - val_loss: 0.1599 - val_accuracy: 0.9530\n",
      "Epoch 9/15\n",
      "422/422 [==============================] - 35s 83ms/step - loss: 0.2337 - accuracy: 0.9246 - val_loss: 0.1576 - val_accuracy: 0.9538\n",
      "Epoch 10/15\n",
      "422/422 [==============================] - 35s 83ms/step - loss: 0.2274 - accuracy: 0.9262 - val_loss: 0.1517 - val_accuracy: 0.9537\n",
      "Epoch 11/15\n",
      "422/422 [==============================] - 35s 84ms/step - loss: 0.2212 - accuracy: 0.9281 - val_loss: 0.1498 - val_accuracy: 0.9535\n",
      "Epoch 12/15\n",
      "422/422 [==============================] - 37s 89ms/step - loss: 0.2178 - accuracy: 0.9295 - val_loss: 0.1465 - val_accuracy: 0.9543\n",
      "Epoch 13/15\n",
      "422/422 [==============================] - 36s 84ms/step - loss: 0.2144 - accuracy: 0.9291 - val_loss: 0.1477 - val_accuracy: 0.9532\n",
      "Epoch 14/15\n",
      "422/422 [==============================] - 35s 83ms/step - loss: 0.2130 - accuracy: 0.9315 - val_loss: 0.1474 - val_accuracy: 0.9560\n",
      "Epoch 15/15\n",
      "422/422 [==============================] - 35s 83ms/step - loss: 0.2103 - accuracy: 0.9314 - val_loss: 0.1456 - val_accuracy: 0.9553\n"
     ]
    },
    {
     "data": {
      "text/plain": [
       "<tensorflow.python.keras.callbacks.History at 0x1cd8498d948>"
      ]
     },
     "execution_count": 28,
     "metadata": {},
     "output_type": "execute_result"
    }
   ],
   "source": [
    "batch_size = 128\n",
    "epochs = 15\n",
    "\n",
    "model_25.compile(loss=\"categorical_crossentropy\", optimizer=\"adam\", metrics=[\"accuracy\"])\n",
    "model_25.fit(X_train_noisy_25, y_train, batch_size=batch_size, epochs=epochs, validation_split=0.1)\n",
    "\n",
    "model_40.compile(loss=\"categorical_crossentropy\", optimizer=\"adam\", metrics=[\"accuracy\"])\n",
    "model_40.fit(X_train_noisy_40, y_train, batch_size=batch_size, epochs=epochs, validation_split=0.1)\n",
    "\n",
    "model_60.compile(loss=\"categorical_crossentropy\", optimizer=\"adam\", metrics=[\"accuracy\"])\n",
    "model_60.fit(X_train_noisy_60, y_train, batch_size=batch_size, epochs=epochs, validation_split=0.1)\n"
   ]
  },
  {
   "cell_type": "code",
   "execution_count": 29,
   "metadata": {},
   "outputs": [
    {
     "name": "stdout",
     "output_type": "stream",
     "text": [
      "Test loss noise 25: 0.037031494081020355\n",
      "Test accuracy noise 25: 0.9868999719619751\n",
      "Test loss noise 40: 0.06714973598718643\n",
      "Test accuracy noise 40: 0.9779999852180481\n",
      "Test loss noise 60: 0.1590907722711563\n",
      "Test accuracy noise 60: 0.9506999850273132\n"
     ]
    }
   ],
   "source": [
    "score = model_25.evaluate(X_test_noisy_25, y_test, verbose=0)\n",
    "print(\"Test loss noise 25:\", score[0])\n",
    "print(\"Test accuracy noise 25:\", score[1])\n",
    "\n",
    "score = model_40.evaluate(X_test_noisy_40, y_test, verbose=0)\n",
    "print(\"Test loss noise 40:\", score[0])\n",
    "print(\"Test accuracy noise 40:\", score[1])\n",
    "\n",
    "score = model_60.evaluate(X_test_noisy_60, y_test, verbose=0)\n",
    "print(\"Test loss noise 60:\", score[0])\n",
    "print(\"Test accuracy noise 60:\", score[1])"
   ]
  },
  {
   "cell_type": "code",
   "execution_count": null,
   "metadata": {},
   "outputs": [],
   "source": []
  }
 ],
 "metadata": {
  "kernelspec": {
   "display_name": "Python 3",
   "language": "python",
   "name": "python3"
  },
  "language_info": {
   "codemirror_mode": {
    "name": "ipython",
    "version": 3
   },
   "file_extension": ".py",
   "mimetype": "text/x-python",
   "name": "python",
   "nbconvert_exporter": "python",
   "pygments_lexer": "ipython3",
   "version": "3.7.5"
  }
 },
 "nbformat": 4,
 "nbformat_minor": 2
}
